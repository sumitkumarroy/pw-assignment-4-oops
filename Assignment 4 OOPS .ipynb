{
 "cells": [
  {
   "cell_type": "code",
   "execution_count": 6,
   "id": "ec025780",
   "metadata": {},
   "outputs": [],
   "source": [
    "#1. creating class of name vehicle\n",
    "\n",
    "class vehicle:\n",
    "    def __init__ (self,vehicle_name,max_speed,average_of_vehicle):\n",
    "        self.vehicle_name = vehicle_name\n",
    "        self.max_speed = max_speed\n",
    "        self.average_of_vehicle = average_of_vehicle\n",
    "        \n",
    "class model:\n",
    "    def __init__(self,year_of_manu,batch):\n",
    "        self.year_of_manu = year_of_manu\n",
    "        self.batch = batch"
   ]
  },
  {
   "cell_type": "code",
   "execution_count": 7,
   "id": "158a6abe",
   "metadata": {},
   "outputs": [
    {
     "name": "stdout",
     "output_type": "stream",
     "text": [
      "The name of vehicle is Audi and it has seating capacity of 4\n"
     ]
    }
   ],
   "source": [
    "#2. creating child class of vehicle class\n",
    "class car(vehicle):\n",
    "    def setinig_capacity(self,capacity):\n",
    "        return f\"The name of vehicle is {self.vehicle_name} and it has seating capacity of {capacity}\"\n",
    "\n",
    "    \n",
    "my_car = car(\"Audi\",240,145)\n",
    "capacity = 4\n",
    "answer = my_car.setinig_capacity(capacity)\n",
    "print(answer)"
   ]
  },
  {
   "cell_type": "code",
   "execution_count": 8,
   "id": "79daa0a5",
   "metadata": {},
   "outputs": [
    {
     "name": "stdout",
     "output_type": "stream",
     "text": [
      "owner name is: ramesh and his phone number is: 1234567890\n",
      "Drives a: TATA having top speed of: 345 manufactured in year: 12-5-2021\n"
     ]
    }
   ],
   "source": [
    "#.3. Multiple threading is used when we inherit ore then one class into a single class\n",
    "\n",
    "class owner(vehicle,model):\n",
    "    def __init__(self,owner_name,phone_number,vehicle_name,max_speed,average_of_vehicle,year_of_manu,batch):\n",
    "        vehicle.__init__ (self,vehicle_name,max_speed,average_of_vehicle)\n",
    "        model.__init__(self,year_of_manu,batch)\n",
    "        \n",
    "        \n",
    "        self.owner_name = owner_name\n",
    "        self.phone_number = phone_number\n",
    "        \n",
    "the_owner = owner(\"ramesh\",1234567890,\"TATA\",345,245,\"12-5-2021\",\"bdywhHG336D6hhj\")\n",
    "\n",
    "print(f\"owner name is: {the_owner.owner_name} and his phone number is: {the_owner.phone_number}\")\n",
    "print(f\"Drives a: {the_owner.vehicle_name} having top speed of: {the_owner.max_speed} manufactured in year: {the_owner.year_of_manu}\")"
   ]
  },
  {
   "cell_type": "code",
   "execution_count": 9,
   "id": "8bd97ebc",
   "metadata": {},
   "outputs": [
    {
     "name": "stdout",
     "output_type": "stream",
     "text": [
      "399\n"
     ]
    }
   ],
   "source": [
    "#4. Getter and Setter and used when we don't want to access of the whole class directly but can be accessed by different class.\n",
    "\n",
    "class abc:\n",
    "    def __init__(self):\n",
    "        self.__speed = 0\n",
    "        \n",
    "    def get_speed(self):\n",
    "        return self.__speed  \n",
    "    \n",
    "    def set_speed(self,speed):\n",
    "        self.__speed = 0 if speed<=0 else speed\n",
    "        \n",
    "spd = abc()\n",
    "spd.set_speed(399)\n",
    "print(spd.get_speed())"
   ]
  },
  {
   "cell_type": "code",
   "execution_count": 11,
   "id": "d04bcc49",
   "metadata": {},
   "outputs": [],
   "source": [
    "#5. Method overring occurs when a subclass provide a specific implementation of a method which already defined in super class.\n",
    "\n",
    "class human:\n",
    "    def do(self):\n",
    "        print(\"humans are busy\")\n",
    "        \n",
    "        \n",
    "class while_day(human):\n",
    "    def do(self):\n",
    "        print(\"They go to work\")\n",
    "        \n",
    "\n",
    "class while_night(human):\n",
    "    def do(self):\n",
    "        print(\"They go to sleep\")\n",
    "        \n",
    "        \n",
    "kk = human()\n",
    "ss = while_day()\n",
    "mm = while_night()\n",
    "\n",
    "kk.do()\n",
    "ss.do()\n",
    "mm.do()"
   ]
  },
  {
   "cell_type": "code",
   "execution_count": null,
   "id": "092d9981",
   "metadata": {},
   "outputs": [],
   "source": []
  }
 ],
 "metadata": {
  "kernelspec": {
   "display_name": "Python 3 (ipykernel)",
   "language": "python",
   "name": "python3"
  },
  "language_info": {
   "codemirror_mode": {
    "name": "ipython",
    "version": 3
   },
   "file_extension": ".py",
   "mimetype": "text/x-python",
   "name": "python",
   "nbconvert_exporter": "python",
   "pygments_lexer": "ipython3",
   "version": "3.11.4"
  }
 },
 "nbformat": 4,
 "nbformat_minor": 5
}
